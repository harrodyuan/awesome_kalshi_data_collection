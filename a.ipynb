{
 "cells": [
  {
   "cell_type": "code",
   "execution_count": 1,
   "metadata": {},
   "outputs": [
    {
     "name": "stdout",
     "output_type": "stream",
     "text": [
      "Requirement already satisfied: requests in /opt/anaconda3/envs/cmumscf/lib/python3.11/site-packages (from -r requirements.txt (line 1)) (2.31.0)\n",
      "Requirement already satisfied: python-dateutil in /opt/anaconda3/envs/cmumscf/lib/python3.11/site-packages (from -r requirements.txt (line 2)) (2.8.2)\n",
      "Collecting cryptography (from -r requirements.txt (line 3))\n",
      "  Using cached cryptography-44.0.0-cp39-abi3-macosx_10_9_universal2.whl.metadata (5.7 kB)\n",
      "Requirement already satisfied: urllib3 in /opt/anaconda3/envs/cmumscf/lib/python3.11/site-packages (from -r requirements.txt (line 4)) (2.2.3)\n",
      "Requirement already satisfied: python-dotenv in /opt/anaconda3/envs/cmumscf/lib/python3.11/site-packages (from -r requirements.txt (line 5)) (1.0.0)\n",
      "Requirement already satisfied: websockets in /opt/anaconda3/envs/cmumscf/lib/python3.11/site-packages (from -r requirements.txt (line 6)) (13.1)\n",
      "Collecting datetime (from -r requirements.txt (line 7))\n",
      "  Downloading DateTime-5.5-py3-none-any.whl.metadata (33 kB)\n",
      "Requirement already satisfied: charset-normalizer<4,>=2 in /opt/anaconda3/envs/cmumscf/lib/python3.11/site-packages (from requests->-r requirements.txt (line 1)) (3.4.0)\n",
      "Requirement already satisfied: idna<4,>=2.5 in /opt/anaconda3/envs/cmumscf/lib/python3.11/site-packages (from requests->-r requirements.txt (line 1)) (3.10)\n",
      "Requirement already satisfied: certifi>=2017.4.17 in /opt/anaconda3/envs/cmumscf/lib/python3.11/site-packages (from requests->-r requirements.txt (line 1)) (2024.8.30)\n",
      "Requirement already satisfied: six>=1.5 in /opt/anaconda3/envs/cmumscf/lib/python3.11/site-packages (from python-dateutil->-r requirements.txt (line 2)) (1.16.0)\n",
      "Collecting cffi>=1.12 (from cryptography->-r requirements.txt (line 3))\n",
      "  Downloading cffi-1.17.1-cp311-cp311-macosx_10_9_x86_64.whl.metadata (1.5 kB)\n",
      "Collecting zope.interface (from datetime->-r requirements.txt (line 7))\n",
      "  Downloading zope.interface-7.2-cp311-cp311-macosx_10_9_x86_64.whl.metadata (44 kB)\n",
      "Requirement already satisfied: pytz in /opt/anaconda3/envs/cmumscf/lib/python3.11/site-packages (from datetime->-r requirements.txt (line 7)) (2024.2)\n",
      "Collecting pycparser (from cffi>=1.12->cryptography->-r requirements.txt (line 3))\n",
      "  Downloading pycparser-2.22-py3-none-any.whl.metadata (943 bytes)\n",
      "Requirement already satisfied: setuptools in /opt/anaconda3/envs/cmumscf/lib/python3.11/site-packages (from zope.interface->datetime->-r requirements.txt (line 7)) (75.1.0)\n",
      "Using cached cryptography-44.0.0-cp39-abi3-macosx_10_9_universal2.whl (6.5 MB)\n",
      "Downloading DateTime-5.5-py3-none-any.whl (52 kB)\n",
      "Downloading cffi-1.17.1-cp311-cp311-macosx_10_9_x86_64.whl (182 kB)\n",
      "Downloading zope.interface-7.2-cp311-cp311-macosx_10_9_x86_64.whl (208 kB)\n",
      "Downloading pycparser-2.22-py3-none-any.whl (117 kB)\n",
      "Installing collected packages: zope.interface, pycparser, datetime, cffi, cryptography\n",
      "Successfully installed cffi-1.17.1 cryptography-44.0.0 datetime-5.5 pycparser-2.22 zope.interface-7.2\n"
     ]
    }
   ],
   "source": [
    "! pip install -r requirements.txt"
   ]
  },
  {
   "cell_type": "code",
   "execution_count": 1,
   "metadata": {},
   "outputs": [
    {
     "name": "stdout",
     "output_type": "stream",
     "text": [
      "Requirement already satisfied: tabulate in /opt/anaconda3/envs/cmumscf/lib/python3.11/site-packages (0.9.0)\n"
     ]
    }
   ],
   "source": [
    "! pip install tabulate"
   ]
  }
 ],
 "metadata": {
  "kernelspec": {
   "display_name": "cmumscf",
   "language": "python",
   "name": "python3"
  },
  "language_info": {
   "codemirror_mode": {
    "name": "ipython",
    "version": 3
   },
   "file_extension": ".py",
   "mimetype": "text/x-python",
   "name": "python",
   "nbconvert_exporter": "python",
   "pygments_lexer": "ipython3",
   "version": "3.11.8"
  }
 },
 "nbformat": 4,
 "nbformat_minor": 2
}
